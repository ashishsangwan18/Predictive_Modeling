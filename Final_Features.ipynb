{
 "cells": [
  {
   "cell_type": "code",
   "execution_count": 1,
   "id": "c3f6113a-4f36-4980-85c2-48dc90c7eb40",
   "metadata": {},
   "outputs": [],
   "source": [
    "import pandas as pd\n",
    "import numpy as np\n",
    "import matplotlib.pyplot as plt\n",
    "import seaborn as sns\n",
    "\n",
    "import warnings\n",
    "warnings.filterwarnings('ignore')"
   ]
  },
  {
   "cell_type": "code",
   "execution_count": 2,
   "id": "dcdd0ffa-a43b-4100-9c99-8bf15b6254c0",
   "metadata": {
    "tags": []
   },
   "outputs": [
    {
     "data": {
      "text/plain": [
       "48"
      ]
     },
     "execution_count": 2,
     "metadata": {},
     "output_type": "execute_result"
    }
   ],
   "source": [
    "lr_features = ['age', 'duration', 'campaign', 'pdays', 'previous', 'emp_var_rate', 'cons_price_idx',\n",
    "               'cons_conf_idx', 'euribor3m', 'nr_employed', 'job_blue-collar', 'job_entrepreneur',\n",
    "               'job_housemaid', 'job_management', 'job_retired', 'job_self-employed', 'job_services',\n",
    "               'job_student', 'job_technician', 'job_unemployed', 'job_unknown', 'marital_married',\n",
    "               'marital_single', 'education_high.school', 'education_professional.course',\n",
    "               'education_university.degree', 'education_unknown', 'default_unknown', 'housing_unknown',\n",
    "               'housing_yes', 'loan_unknown', 'loan_yes', 'contact_telephone', 'month_aug', 'month_dec',\n",
    "               'month_jul', 'month_jun', 'month_mar', 'month_may', 'month_nov', 'month_oct', 'month_sep',\n",
    "               'day_of_week_mon', 'day_of_week_thu', 'day_of_week_tue', 'day_of_week_wed',\n",
    "               'poutcome_nonexistent', 'poutcome_success']\n",
    "len(lr_features)"
   ]
  },
  {
   "cell_type": "code",
   "execution_count": 4,
   "id": "a43962bf-fc70-46f4-92b9-23e7f77a0319",
   "metadata": {},
   "outputs": [
    {
     "data": {
      "text/plain": [
       "30"
      ]
     },
     "execution_count": 4,
     "metadata": {},
     "output_type": "execute_result"
    }
   ],
   "source": [
    "rf_features = ['duration','nr_employed','euribor3m','emp_var_rate','contact_telephone','cons_conf_idx',\n",
    "               'cons_price_idx','month_may','job_blue-collar','pdays','default_unknown',\n",
    "               'poutcome_nonexistent','poutcome_success','marital_married','day_of_week_mon',\n",
    "               'education_high.school','housing_yes','job_technician','day_of_week_tue','marital_single',\n",
    "               'day_of_week_thu','loan_yes','previous','day_of_week_wed','month_aug',\n",
    "               'education_university.degree','job_services','education_professional.course',\n",
    "               'month_nov','campaign']\n",
    "len(rf_features)"
   ]
  },
  {
   "cell_type": "code",
   "execution_count": 5,
   "id": "0c730f7a-6de2-4690-b9e4-0d76ddb981f7",
   "metadata": {},
   "outputs": [],
   "source": [
    "def intersection(lst1, lst2):\n",
    "    lst3 = [value for value in lst1 if value in lst2]\n",
    "    return lst3"
   ]
  },
  {
   "cell_type": "code",
   "execution_count": 8,
   "id": "3354bfd4-2ca5-4ea9-a67d-4f621812f5b5",
   "metadata": {},
   "outputs": [
    {
     "data": {
      "text/plain": [
       "30"
      ]
     },
     "execution_count": 8,
     "metadata": {},
     "output_type": "execute_result"
    }
   ],
   "source": [
    "final_features = intersection(lr_features, rf_features)\n",
    "len(final_features)"
   ]
  },
  {
   "cell_type": "code",
   "execution_count": 9,
   "id": "46c2f08c-4752-49ea-aa11-3155fde08841",
   "metadata": {},
   "outputs": [
    {
     "data": {
      "text/plain": [
       "['duration',\n",
       " 'campaign',\n",
       " 'pdays',\n",
       " 'previous',\n",
       " 'emp_var_rate',\n",
       " 'cons_price_idx',\n",
       " 'cons_conf_idx',\n",
       " 'euribor3m',\n",
       " 'nr_employed',\n",
       " 'job_blue-collar',\n",
       " 'job_services',\n",
       " 'job_technician',\n",
       " 'marital_married',\n",
       " 'marital_single',\n",
       " 'education_high.school',\n",
       " 'education_professional.course',\n",
       " 'education_university.degree',\n",
       " 'default_unknown',\n",
       " 'housing_yes',\n",
       " 'loan_yes',\n",
       " 'contact_telephone',\n",
       " 'month_aug',\n",
       " 'month_may',\n",
       " 'month_nov',\n",
       " 'day_of_week_mon',\n",
       " 'day_of_week_thu',\n",
       " 'day_of_week_tue',\n",
       " 'day_of_week_wed',\n",
       " 'poutcome_nonexistent',\n",
       " 'poutcome_success']"
      ]
     },
     "execution_count": 9,
     "metadata": {},
     "output_type": "execute_result"
    }
   ],
   "source": [
    "final_features"
   ]
  }
 ],
 "metadata": {
  "kernelspec": {
   "display_name": "Python 3",
   "language": "python",
   "name": "python3"
  },
  "language_info": {
   "codemirror_mode": {
    "name": "ipython",
    "version": 3
   },
   "file_extension": ".py",
   "mimetype": "text/x-python",
   "name": "python",
   "nbconvert_exporter": "python",
   "pygments_lexer": "ipython3",
   "version": "3.8.8"
  }
 },
 "nbformat": 4,
 "nbformat_minor": 5
}
