{
 "cells": [
  {
   "cell_type": "code",
   "execution_count": 1,
   "id": "ab144e9f",
   "metadata": {},
   "outputs": [
    {
     "data": {
      "text/plain": [
       "['.git',\n",
       " '.ipynb',\n",
       " '.ipynb_checkpoints',\n",
       " '1.Logistic Regression - Banking (Customer Subscribe or Not).ipynb',\n",
       " '2.Decision Tree - Banking (Customer Subscribe or Not).ipynb',\n",
       " '3.Random Forest - Banking (Customer Subscribe or Not).ipynb',\n",
       " '4.Adaboost - Banking (Customer Subscribe or Not).ipynb',\n",
       " '5.Gradient Boosting - Banking (Customer Subscribe or Not).ipynb',\n",
       " 'Banking.csv',\n",
       " 'Ensemble_All_Models.ipynb',\n",
       " 'Final_Features.ipynb',\n",
       " 'Log_ROC.png']"
      ]
     },
     "execution_count": 1,
     "metadata": {},
     "output_type": "execute_result"
    }
   ],
   "source": [
    "import pandas as pd\n",
    "import numpy as np\n",
    "import matplotlib.pyplot as plt\n",
    "import seaborn as sns\n",
    "\n",
    "import warnings\n",
    "warnings.filterwarnings('ignore')\n",
    "\n",
    "import os\n",
    "path = os.getcwd()\n",
    "files = os.listdir(path)\n",
    "files"
   ]
  },
  {
   "cell_type": "code",
   "execution_count": 2,
   "id": "2d33423d",
   "metadata": {},
   "outputs": [
    {
     "name": "stdout",
     "output_type": "stream",
     "text": [
      "(41188, 21)\n"
     ]
    },
    {
     "data": {
      "text/html": [
       "<div>\n",
       "<style scoped>\n",
       "    .dataframe tbody tr th:only-of-type {\n",
       "        vertical-align: middle;\n",
       "    }\n",
       "\n",
       "    .dataframe tbody tr th {\n",
       "        vertical-align: top;\n",
       "    }\n",
       "\n",
       "    .dataframe thead th {\n",
       "        text-align: right;\n",
       "    }\n",
       "</style>\n",
       "<table border=\"1\" class=\"dataframe\">\n",
       "  <thead>\n",
       "    <tr style=\"text-align: right;\">\n",
       "      <th></th>\n",
       "      <th>age</th>\n",
       "      <th>job</th>\n",
       "      <th>marital</th>\n",
       "      <th>education</th>\n",
       "      <th>default</th>\n",
       "      <th>housing</th>\n",
       "      <th>loan</th>\n",
       "      <th>contact</th>\n",
       "      <th>month</th>\n",
       "      <th>day_of_week</th>\n",
       "      <th>...</th>\n",
       "      <th>campaign</th>\n",
       "      <th>pdays</th>\n",
       "      <th>previous</th>\n",
       "      <th>poutcome</th>\n",
       "      <th>emp_var_rate</th>\n",
       "      <th>cons_price_idx</th>\n",
       "      <th>cons_conf_idx</th>\n",
       "      <th>euribor3m</th>\n",
       "      <th>nr_employed</th>\n",
       "      <th>y</th>\n",
       "    </tr>\n",
       "  </thead>\n",
       "  <tbody>\n",
       "    <tr>\n",
       "      <th>0</th>\n",
       "      <td>44</td>\n",
       "      <td>blue-collar</td>\n",
       "      <td>married</td>\n",
       "      <td>basic.4y</td>\n",
       "      <td>unknown</td>\n",
       "      <td>yes</td>\n",
       "      <td>no</td>\n",
       "      <td>cellular</td>\n",
       "      <td>aug</td>\n",
       "      <td>thu</td>\n",
       "      <td>...</td>\n",
       "      <td>1</td>\n",
       "      <td>999</td>\n",
       "      <td>0</td>\n",
       "      <td>nonexistent</td>\n",
       "      <td>1.4</td>\n",
       "      <td>93.444</td>\n",
       "      <td>-36.1</td>\n",
       "      <td>4.963</td>\n",
       "      <td>5228.1</td>\n",
       "      <td>0</td>\n",
       "    </tr>\n",
       "    <tr>\n",
       "      <th>1</th>\n",
       "      <td>53</td>\n",
       "      <td>technician</td>\n",
       "      <td>married</td>\n",
       "      <td>unknown</td>\n",
       "      <td>no</td>\n",
       "      <td>no</td>\n",
       "      <td>no</td>\n",
       "      <td>cellular</td>\n",
       "      <td>nov</td>\n",
       "      <td>fri</td>\n",
       "      <td>...</td>\n",
       "      <td>1</td>\n",
       "      <td>999</td>\n",
       "      <td>0</td>\n",
       "      <td>nonexistent</td>\n",
       "      <td>-0.1</td>\n",
       "      <td>93.200</td>\n",
       "      <td>-42.0</td>\n",
       "      <td>4.021</td>\n",
       "      <td>5195.8</td>\n",
       "      <td>0</td>\n",
       "    </tr>\n",
       "    <tr>\n",
       "      <th>2</th>\n",
       "      <td>28</td>\n",
       "      <td>management</td>\n",
       "      <td>single</td>\n",
       "      <td>university.degree</td>\n",
       "      <td>no</td>\n",
       "      <td>yes</td>\n",
       "      <td>no</td>\n",
       "      <td>cellular</td>\n",
       "      <td>jun</td>\n",
       "      <td>thu</td>\n",
       "      <td>...</td>\n",
       "      <td>3</td>\n",
       "      <td>6</td>\n",
       "      <td>2</td>\n",
       "      <td>success</td>\n",
       "      <td>-1.7</td>\n",
       "      <td>94.055</td>\n",
       "      <td>-39.8</td>\n",
       "      <td>0.729</td>\n",
       "      <td>4991.6</td>\n",
       "      <td>1</td>\n",
       "    </tr>\n",
       "    <tr>\n",
       "      <th>3</th>\n",
       "      <td>39</td>\n",
       "      <td>services</td>\n",
       "      <td>married</td>\n",
       "      <td>high.school</td>\n",
       "      <td>no</td>\n",
       "      <td>no</td>\n",
       "      <td>no</td>\n",
       "      <td>cellular</td>\n",
       "      <td>apr</td>\n",
       "      <td>fri</td>\n",
       "      <td>...</td>\n",
       "      <td>2</td>\n",
       "      <td>999</td>\n",
       "      <td>0</td>\n",
       "      <td>nonexistent</td>\n",
       "      <td>-1.8</td>\n",
       "      <td>93.075</td>\n",
       "      <td>-47.1</td>\n",
       "      <td>1.405</td>\n",
       "      <td>5099.1</td>\n",
       "      <td>0</td>\n",
       "    </tr>\n",
       "    <tr>\n",
       "      <th>4</th>\n",
       "      <td>55</td>\n",
       "      <td>retired</td>\n",
       "      <td>married</td>\n",
       "      <td>basic.4y</td>\n",
       "      <td>no</td>\n",
       "      <td>yes</td>\n",
       "      <td>no</td>\n",
       "      <td>cellular</td>\n",
       "      <td>aug</td>\n",
       "      <td>fri</td>\n",
       "      <td>...</td>\n",
       "      <td>1</td>\n",
       "      <td>3</td>\n",
       "      <td>1</td>\n",
       "      <td>success</td>\n",
       "      <td>-2.9</td>\n",
       "      <td>92.201</td>\n",
       "      <td>-31.4</td>\n",
       "      <td>0.869</td>\n",
       "      <td>5076.2</td>\n",
       "      <td>1</td>\n",
       "    </tr>\n",
       "  </tbody>\n",
       "</table>\n",
       "<p>5 rows × 21 columns</p>\n",
       "</div>"
      ],
      "text/plain": [
       "   age          job  marital          education  default housing loan  \\\n",
       "0   44  blue-collar  married           basic.4y  unknown     yes   no   \n",
       "1   53   technician  married            unknown       no      no   no   \n",
       "2   28   management   single  university.degree       no     yes   no   \n",
       "3   39     services  married        high.school       no      no   no   \n",
       "4   55      retired  married           basic.4y       no     yes   no   \n",
       "\n",
       "    contact month day_of_week  ...  campaign  pdays  previous     poutcome  \\\n",
       "0  cellular   aug         thu  ...         1    999         0  nonexistent   \n",
       "1  cellular   nov         fri  ...         1    999         0  nonexistent   \n",
       "2  cellular   jun         thu  ...         3      6         2      success   \n",
       "3  cellular   apr         fri  ...         2    999         0  nonexistent   \n",
       "4  cellular   aug         fri  ...         1      3         1      success   \n",
       "\n",
       "  emp_var_rate  cons_price_idx  cons_conf_idx  euribor3m  nr_employed  y  \n",
       "0          1.4          93.444          -36.1      4.963       5228.1  0  \n",
       "1         -0.1          93.200          -42.0      4.021       5195.8  0  \n",
       "2         -1.7          94.055          -39.8      0.729       4991.6  1  \n",
       "3         -1.8          93.075          -47.1      1.405       5099.1  0  \n",
       "4         -2.9          92.201          -31.4      0.869       5076.2  1  \n",
       "\n",
       "[5 rows x 21 columns]"
      ]
     },
     "execution_count": 2,
     "metadata": {},
     "output_type": "execute_result"
    }
   ],
   "source": [
    "df = pd.read_csv('Banking.csv')\n",
    "print(df.shape)\n",
    "df.head()"
   ]
  },
  {
   "cell_type": "code",
   "execution_count": 3,
   "id": "4d92269c",
   "metadata": {},
   "outputs": [
    {
     "data": {
      "text/plain": [
       "age               0\n",
       "job               0\n",
       "marital           0\n",
       "education         0\n",
       "default           0\n",
       "housing           0\n",
       "loan              0\n",
       "contact           0\n",
       "month             0\n",
       "day_of_week       0\n",
       "duration          0\n",
       "campaign          0\n",
       "pdays             0\n",
       "previous          0\n",
       "poutcome          0\n",
       "emp_var_rate      0\n",
       "cons_price_idx    0\n",
       "cons_conf_idx     0\n",
       "euribor3m         0\n",
       "nr_employed       0\n",
       "y                 0\n",
       "dtype: int64"
      ]
     },
     "execution_count": 3,
     "metadata": {},
     "output_type": "execute_result"
    }
   ],
   "source": [
    "df.isnull().sum()"
   ]
  },
  {
   "cell_type": "code",
   "execution_count": 4,
   "id": "0d8e09d6",
   "metadata": {},
   "outputs": [
    {
     "data": {
      "text/plain": [
       "age                 int64\n",
       "job                object\n",
       "marital            object\n",
       "education          object\n",
       "default            object\n",
       "housing            object\n",
       "loan               object\n",
       "contact            object\n",
       "month              object\n",
       "day_of_week        object\n",
       "duration            int64\n",
       "campaign            int64\n",
       "pdays               int64\n",
       "previous            int64\n",
       "poutcome           object\n",
       "emp_var_rate      float64\n",
       "cons_price_idx    float64\n",
       "cons_conf_idx     float64\n",
       "euribor3m         float64\n",
       "nr_employed       float64\n",
       "y                   int64\n",
       "dtype: object"
      ]
     },
     "execution_count": 4,
     "metadata": {},
     "output_type": "execute_result"
    }
   ],
   "source": [
    "df.dtypes"
   ]
  },
  {
   "cell_type": "code",
   "execution_count": 5,
   "id": "9766653c",
   "metadata": {},
   "outputs": [
    {
     "data": {
      "text/plain": [
       "age                 78\n",
       "job                 12\n",
       "marital              4\n",
       "education            8\n",
       "default              3\n",
       "housing              3\n",
       "loan                 3\n",
       "contact              2\n",
       "month               10\n",
       "day_of_week          5\n",
       "duration          1544\n",
       "campaign            42\n",
       "pdays               27\n",
       "previous             8\n",
       "poutcome             3\n",
       "emp_var_rate        10\n",
       "cons_price_idx      26\n",
       "cons_conf_idx       26\n",
       "euribor3m          316\n",
       "nr_employed         11\n",
       "y                    2\n",
       "dtype: int64"
      ]
     },
     "execution_count": 5,
     "metadata": {},
     "output_type": "execute_result"
    }
   ],
   "source": [
    "df.nunique()"
   ]
  },
  {
   "cell_type": "code",
   "execution_count": 6,
   "id": "27f1d05b",
   "metadata": {},
   "outputs": [
    {
     "data": {
      "text/plain": [
       "university.degree      12168\n",
       "high.school             9515\n",
       "basic.9y                6045\n",
       "professional.course     5243\n",
       "basic.4y                4176\n",
       "basic.6y                2292\n",
       "unknown                 1731\n",
       "illiterate                18\n",
       "Name: education, dtype: int64"
      ]
     },
     "execution_count": 6,
     "metadata": {},
     "output_type": "execute_result"
    }
   ],
   "source": [
    "df['education'].value_counts()"
   ]
  },
  {
   "cell_type": "code",
   "execution_count": 7,
   "id": "7308a918",
   "metadata": {
    "scrolled": true
   },
   "outputs": [
    {
     "data": {
      "text/plain": [
       "Basic                  12513\n",
       "university.degree      12168\n",
       "high.school             9515\n",
       "professional.course     5243\n",
       "unknown                 1731\n",
       "illiterate                18\n",
       "Name: education, dtype: int64"
      ]
     },
     "execution_count": 7,
     "metadata": {},
     "output_type": "execute_result"
    }
   ],
   "source": [
    "df['education'] = np.where(df['education'].isin(['basic.4y','basic.6y','basic.9y']), 'Basic', df['education'])\n",
    "df['education'].value_counts()"
   ]
  },
  {
   "cell_type": "markdown",
   "id": "63c72827",
   "metadata": {},
   "source": [
    "### Create dummy variables"
   ]
  },
  {
   "cell_type": "code",
   "execution_count": 8,
   "id": "311425b6",
   "metadata": {},
   "outputs": [],
   "source": [
    "df1 = pd.get_dummies(df, columns=['job','marital','education','default','housing','loan',\n",
    "                                    'contact','month','day_of_week','poutcome'], drop_first=True)"
   ]
  },
  {
   "cell_type": "markdown",
   "id": "dbadba67",
   "metadata": {},
   "source": [
    "## Data Exploration"
   ]
  },
  {
   "cell_type": "code",
   "execution_count": 9,
   "id": "9b2ca75a",
   "metadata": {},
   "outputs": [
    {
     "data": {
      "image/png": "[encoded data removed]",
      "text/plain": [
       "<Figure size 432x288 with 1 Axes>"
      ]
     },
     "metadata": {
      "needs_background": "light"
     },
     "output_type": "display_data"
    }
   ],
   "source": [
    "sns.countplot(x='y', data=df1)\n",
    "plt.show()"
   ]
  },
  {
   "cell_type": "code",
   "execution_count": 10,
   "id": "b8538ad2",
   "metadata": {},
   "outputs": [
    {
     "data": {
      "text/plain": [
       "0    88.734583\n",
       "1    11.265417\n",
       "Name: y, dtype: float64"
      ]
     },
     "execution_count": 10,
     "metadata": {},
     "output_type": "execute_result"
    }
   ],
   "source": [
    "df1['y'].value_counts(normalize=True)*100"
   ]
  },
  {
   "cell_type": "code",
   "execution_count": 11,
   "id": "bcfe9730",
   "metadata": {
    "scrolled": true
   },
   "outputs": [
    {
     "data": {
      "image/png": "[encoded data removed]",
      "text/plain": [
       "<Figure size 432x288 with 1 Axes>"
      ]
     },
     "metadata": {
      "needs_background": "light"
     },
     "output_type": "display_data"
    }
   ],
   "source": [
    "total = float(len(df1))\n",
    "ax = sns.countplot(x='y', data=df1)\n",
    "\n",
    "for p in ax.patches:\n",
    "    percentage = '{:.1f}%'.format(p.get_height()/total*100)\n",
    "    x = p.get_x() + p.get_width()/ 1 - 0.5\n",
    "    y = p.get_y() + p.get_height()\n",
    "    ax.annotate(percentage, (x,y), size=15)\n",
    "plt.show() "
   ]
  },
  {
   "cell_type": "markdown",
   "id": "1b62713a",
   "metadata": {},
   "source": [
    "### Divide into X and Y"
   ]
  },
  {
   "cell_type": "code",
   "execution_count": 12,
   "id": "46254e08",
   "metadata": {},
   "outputs": [
    {
     "name": "stdout",
     "output_type": "stream",
     "text": [
      "(41188, 51)\n",
      "(41188, 1)\n"
     ]
    }
   ],
   "source": [
    "X = df1.loc[:,df1.columns!='y']\n",
    "y = df1.loc[:,df1.columns=='y']\n",
    "\n",
    "print(X.shape)\n",
    "print(y.shape)"
   ]
  },
  {
   "cell_type": "markdown",
   "id": "a2ac5b02",
   "metadata": {},
   "source": [
    "### Train Test Split"
   ]
  },
  {
   "cell_type": "code",
   "execution_count": 13,
   "id": "12eb93b1",
   "metadata": {},
   "outputs": [],
   "source": [
    "from sklearn.model_selection import train_test_split\n",
    "X_train, X_test, y_train, y_test = train_test_split(X, y, test_size=0.2, random_state=10, stratify=y)"
   ]
  },
  {
   "cell_type": "markdown",
   "id": "df314443",
   "metadata": {},
   "source": [
    "### Handling Imbalance Data - SMOTE\n",
    "- There 3 methods we can use to handle imbalance data set\n",
    "  - SMOTE - Over sampling technique generates synthetic data points of minority class\n",
    "  - SMOTEENN - Over sampling then under sampling \n",
    "  - SMOTETOmek - Over sampling then under sampling \n",
    "\n",
    "https://imbalanced-learn.org/stable/auto_examples/index.html#general-examples\n",
    "\n",
    "- Using SMOTE noisy sample can be generated. E.g where different classes can not be very well separate. Hence, it can be benificial to apply an under sampling algorithm to clean the noisy samples. Please see above link\n",
    " \n",
    "- SMOTEENN is better then SMOTETOmek"
   ]
  },
  {
   "cell_type": "code",
   "execution_count": 14,
   "id": "5ec485de",
   "metadata": {},
   "outputs": [],
   "source": [
    "# !pip install imblearn \n",
    "# First run above command incase SMOTE is not loading\n",
    "\n",
    "from imblearn.over_sampling import SMOTE\n",
    "smote = SMOTE(random_state=10)\n",
    "smote_X_train, smote_y_train = smote.fit_resample(X_train, y_train)"
   ]
  },
  {
   "cell_type": "code",
   "execution_count": 15,
   "id": "89efc9d0",
   "metadata": {},
   "outputs": [
    {
     "name": "stdout",
     "output_type": "stream",
     "text": [
      "0    29238\n",
      "1     3712\n",
      "Name: y, dtype: int64\n",
      "0    29238\n",
      "1    29238\n",
      "Name: y, dtype: int64\n"
     ]
    }
   ],
   "source": [
    "print(y_train['y'].value_counts())\n",
    "print(smote_y_train['y'].value_counts())"
   ]
  },
  {
   "cell_type": "markdown",
   "id": "f10514df",
   "metadata": {},
   "source": [
    "### Prepraing final data set after feature selection"
   ]
  },
  {
   "cell_type": "code",
   "execution_count": 16,
   "id": "ce931c2f",
   "metadata": {},
   "outputs": [],
   "source": [
    "final_features = ['duration','campaign','pdays','previous','emp_var_rate','cons_price_idx',\n",
    "                  'cons_conf_idx','euribor3m','nr_employed','job_blue-collar','job_services',\n",
    "                  'job_technician','marital_married','marital_single','education_high.school',\n",
    "                  'education_professional.course','education_university.degree','default_unknown',\n",
    "                  'housing_yes','loan_yes','contact_telephone','month_aug','month_may','month_nov',\n",
    "                  'day_of_week_mon','day_of_week_thu','day_of_week_tue','day_of_week_wed',\n",
    "                  'poutcome_nonexistent','poutcome_success']"
   ]
  },
  {
   "cell_type": "code",
   "execution_count": 17,
   "id": "cdf8a8fe",
   "metadata": {},
   "outputs": [],
   "source": [
    "smote_X_train_final = smote_X_train[final_features]\n",
    "X_test_final = X_test[final_features]"
   ]
  },
  {
   "cell_type": "markdown",
   "id": "ba7f84da",
   "metadata": {},
   "source": [
    "### Final Training Data"
   ]
  },
  {
   "cell_type": "code",
   "execution_count": 18,
   "id": "86a2ee85",
   "metadata": {},
   "outputs": [
    {
     "name": "stdout",
     "output_type": "stream",
     "text": [
      "(58476, 30)\n",
      "(58476, 1)\n"
     ]
    }
   ],
   "source": [
    "print(smote_X_train_final.shape)\n",
    "print(smote_y_train.shape)"
   ]
  },
  {
   "cell_type": "markdown",
   "id": "96b58d8d",
   "metadata": {},
   "source": [
    "### Modeling"
   ]
  },
  {
   "cell_type": "code",
   "execution_count": 24,
   "id": "241e70ac-59b8-4b0a-ac80-61d9dd105169",
   "metadata": {
    "scrolled": true,
    "tags": []
   },
   "outputs": [
    {
     "name": "stdout",
     "output_type": "stream",
     "text": [
      "LogisticRegression(C=1.25, max_iter=200, solver='newton-cg')\n",
      "--------------------------------------------\n",
      "{'solver': 'newton-cg', 'penalty': 'l2', 'max_iter': 200, 'C': 1.25}\n",
      "--------------------------------------------\n",
      "0.9120177546146968\n",
      "Wall time: 5min 24s\n"
     ]
    }
   ],
   "source": [
    "%%time\n",
    "\n",
    "from sklearn.model_selection import RandomizedSearchCV\n",
    "from sklearn.linear_model import LogisticRegression\n",
    "\n",
    "classifier = LogisticRegression()\n",
    "\n",
    "param_randomCV = [{'penalty':['l2'], 'C':[1,1.15,1.25], 'solver':['newton-cg','lbfgs','sag','saga'], 'max_iter':[100,200]},\n",
    "                {'penalty':['elasticnet'], 'C':[1,1.15,1.25], 'solver':['saga'], 'max_iter':[100,200], 'l1_ratio':[.3,.5,.7]}, \n",
    "                {'penalty':['l1'], 'C':[1,1.15,1.25], 'solver':['liblinear','saga'], 'max_iter':[100,200]}]\n",
    "\n",
    "randomCV = RandomizedSearchCV(estimator=classifier, param_distributions=param_randomCV, cv=5, scoring='accuracy', random_state=10)\n",
    "best_randomCV = randomCV.fit(smote_X_train_final, smote_y_train)\n",
    "\n",
    "print(best_randomCV.best_estimator_)\n",
    "print('--------------------------------------------')\n",
    "print(best_randomCV.best_params_)\n",
    "print('--------------------------------------------')\n",
    "print(best_randomCV.best_score_)"
   ]
  },
  {
   "cell_type": "code",
   "execution_count": 43,
   "id": "f0d3de23-776d-473b-9a99-952f44d4ef5e",
   "metadata": {
    "scrolled": true
   },
   "outputs": [
    {
     "name": "stdout",
     "output_type": "stream",
     "text": [
      "RandomForestClassifier(ccp_alpha=0.01, criterion='entropy', max_depth=5,\n",
      "                       max_features='log2', max_leaf_nodes=16,\n",
      "                       min_impurity_decrease=0.004, min_samples_split=4,\n",
      "                       n_estimators=800)\n",
      "--------------------------------------------\n",
      "{'n_estimators': 800, 'min_samples_split': 4, 'min_samples_leaf': 1, 'min_impurity_decrease': 0.004, 'max_leaf_nodes': 16, 'max_features': 'log2', 'max_depth': 5, 'criterion': 'entropy', 'ccp_alpha': 0.01}\n",
      "--------------------------------------------\n",
      "0.8776259526648884\n",
      "Wall time: 12min 31s\n"
     ]
    }
   ],
   "source": [
    "%%time\n",
    "\n",
    "from sklearn.model_selection import RandomizedSearchCV\n",
    "from sklearn.ensemble import RandomForestClassifier\n",
    "\n",
    "classifier = RandomForestClassifier()\n",
    "\n",
    "param_randomCV = [{'n_estimators':[500, 800], 'max_features':['sqrt', 'log2'], 'criterion':['gini','entropy'], 'max_depth':[3,4,5], 'min_samples_split':[2,3,4,5], \n",
    "                   'min_samples_leaf':[1,2,3], 'ccp_alpha':[.01,.015, .02, .025,.03], \n",
    "                   'min_impurity_decrease':[.004,.01,.015], 'max_leaf_nodes':[15,16,17,18,19,20]}]\n",
    "\n",
    "randomCV = RandomizedSearchCV(estimator=classifier, param_distributions=param_randomCV, cv=5, scoring='accuracy', random_state=10)\n",
    "best_randomCV = randomCV.fit(smote_X_train, smote_y_train)\n",
    "\n",
    "print(best_randomCV.best_estimator_)\n",
    "print('--------------------------------------------')\n",
    "print(best_randomCV.best_params_)\n",
    "print('--------------------------------------------')\n",
    "print(best_randomCV.best_score_)"
   ]
  },
  {
   "cell_type": "code",
   "execution_count": 48,
   "id": "7c652114",
   "metadata": {},
   "outputs": [],
   "source": [
    "from sklearn.linear_model import LogisticRegression\n",
    "from sklearn.tree import DecisionTreeClassifier\n",
    "from sklearn.ensemble import RandomForestClassifier\n",
    "\n",
    "lr = LogisticRegression(penalty='l2', C=1.25, solver='newton-cg', max_iter=200)\n",
    "dt = DecisionTreeClassifier(ccp_alpha=0.017, criterion='entropy', max_depth=4,\n",
    "                            max_leaf_nodes=20, min_impurity_decrease=0.001)\n",
    "rf = RandomForestClassifier(ccp_alpha=0.01, criterion='entropy', max_depth=5,\n",
    "                            max_features='log2', max_leaf_nodes=16,min_impurity_decrease=0.004, \n",
    "                            min_samples_split=4,n_estimators=800)\n",
    "\n"
   ]
  },
  {
   "cell_type": "markdown",
   "id": "a5233ea2-08bd-4846-b48b-e65eec19691c",
   "metadata": {},
   "source": [
    "### Hard Voting Classifer"
   ]
  },
  {
   "cell_type": "code",
   "execution_count": 55,
   "id": "fec55d01-20f8-447d-98c2-5fc2457b77a9",
   "metadata": {},
   "outputs": [
    {
     "data": {
      "text/plain": [
       "VotingClassifier(estimators=[('clf_lr',\n",
       "                              LogisticRegression(C=1.25, max_iter=200,\n",
       "                                                 solver='newton-cg')),\n",
       "                             ('clf_dt',\n",
       "                              DecisionTreeClassifier(ccp_alpha=0.017,\n",
       "                                                     criterion='entropy',\n",
       "                                                     max_depth=4,\n",
       "                                                     max_leaf_nodes=20,\n",
       "                                                     min_impurity_decrease=0.001)),\n",
       "                             ('clf_rf',\n",
       "                              RandomForestClassifier(ccp_alpha=0.01,\n",
       "                                                     criterion='entropy',\n",
       "                                                     max_depth=5,\n",
       "                                                     max_features='log2',\n",
       "                                                     max_leaf_nodes=16,\n",
       "                                                     min_impurity_decrease=0.004,\n",
       "                                                     min_samples_split=4,\n",
       "                                                     n_estimators=800))])"
      ]
     },
     "execution_count": 55,
     "metadata": {},
     "output_type": "execute_result"
    }
   ],
   "source": [
    "from sklearn.ensemble import VotingClassifier\n",
    "\n",
    "estimator = [('clf_lr', lr), ('clf_dt', dt), ('clf_rf', rf)]\n",
    "\n",
    "vote_hard = VotingClassifier(estimators= estimator, voting='hard')\n",
    "vote_hard.fit(smote_X_train_final, smote_y_train)"
   ]
  },
  {
   "cell_type": "code",
   "execution_count": 56,
   "id": "df5304cd",
   "metadata": {},
   "outputs": [
    {
     "data": {
      "image/png": "[encoded data removed]",
      "text/plain": [
       "<Figure size 432x288 with 2 Axes>"
      ]
     },
     "metadata": {
      "needs_background": "light"
     },
     "output_type": "display_data"
    }
   ],
   "source": [
    "from sklearn.metrics import plot_confusion_matrix\n",
    "dis = plot_confusion_matrix(vote_hard, X_test_final, y_test)"
   ]
  },
  {
   "cell_type": "code",
   "execution_count": 57,
   "id": "ab6c0fe9",
   "metadata": {},
   "outputs": [
    {
     "name": "stdout",
     "output_type": "stream",
     "text": [
      "              precision    recall  f1-score   support\n",
      "\n",
      "           0       0.97      0.86      0.91      7310\n",
      "           1       0.42      0.79      0.55       928\n",
      "\n",
      "    accuracy                           0.86      8238\n",
      "   macro avg       0.70      0.83      0.73      8238\n",
      "weighted avg       0.91      0.86      0.87      8238\n",
      "\n"
     ]
    }
   ],
   "source": [
    "y_pred = vote_hard.predict(X_test_final)\n",
    "\n",
    "from sklearn.metrics import classification_report, confusion_matrix, accuracy_score\n",
    "print(classification_report(y_test, y_pred))"
   ]
  },
  {
   "cell_type": "markdown",
   "id": "8224836c-d627-428f-a94f-9dc18bf3320f",
   "metadata": {},
   "source": [
    "### Soft Voting Classifer Hyperparamter Tuning"
   ]
  },
  {
   "cell_type": "code",
   "execution_count": 70,
   "id": "0fe913ab-f1ef-493c-882b-52f4d6b7dde0",
   "metadata": {},
   "outputs": [
    {
     "data": {
      "text/plain": [
       "{'weights': (2, 1, 1), 'voting': 'soft'}"
      ]
     },
     "execution_count": 70,
     "metadata": {},
     "output_type": "execute_result"
    }
   ],
   "source": [
    "from sklearn.model_selection import GridSearchCV\n",
    "from sklearn.model_selection import RandomizedSearchCV\n",
    "\n",
    "voting_params = {'voting':['soft'], 'weights':[(1,1,1),(2,1,1),(1,2,1),(1,1,2)]}\n",
    "\n",
    "grid = RandomizedSearchCV(vote_soft, voting_params)\n",
    "grid.fit(smote_X_train_final, smote_y_train)\n",
    "grid.best_params_"
   ]
  },
  {
   "cell_type": "code",
   "execution_count": 71,
   "id": "df474bd5-688a-42fe-9116-71cd62b3fa01",
   "metadata": {},
   "outputs": [
    {
     "data": {
      "text/plain": [
       "VotingClassifier(estimators=[('clf_lr',\n",
       "                              LogisticRegression(C=1.25, max_iter=200,\n",
       "                                                 solver='newton-cg')),\n",
       "                             ('clf_dt',\n",
       "                              DecisionTreeClassifier(ccp_alpha=0.017,\n",
       "                                                     criterion='entropy',\n",
       "                                                     max_depth=4,\n",
       "                                                     max_leaf_nodes=20,\n",
       "                                                     min_impurity_decrease=0.001)),\n",
       "                             ('clf_rf',\n",
       "                              RandomForestClassifier(ccp_alpha=0.01,\n",
       "                                                     criterion='entropy',\n",
       "                                                     max_depth=5,\n",
       "                                                     max_features='log2',\n",
       "                                                     max_leaf_nodes=16,\n",
       "                                                     min_impurity_decrease=0.004,\n",
       "                                                     min_samples_split=4,\n",
       "                                                     n_estimators=800))],\n",
       "                 voting='soft', weights=[2, 1, 1])"
      ]
     },
     "execution_count": 71,
     "metadata": {},
     "output_type": "execute_result"
    }
   ],
   "source": [
    "from sklearn.ensemble import VotingClassifier\n",
    "\n",
    "estimator = [('clf_lr', lr), ('clf_dt', dt), ('clf_rf', rf)]\n",
    "\n",
    "vote_soft = VotingClassifier(estimators= estimator, voting='soft', weights=[2,1,1])\n",
    "vote_soft.fit(smote_X_train_final, smote_y_train)"
   ]
  },
  {
   "cell_type": "code",
   "execution_count": 72,
   "id": "b3025ec0-8d1d-444c-a6b8-83ce12cdb7a5",
   "metadata": {},
   "outputs": [
    {
     "data": {
      "image/png": "[encoded data removed]",
      "text/plain": [
       "<Figure size 432x288 with 2 Axes>"
      ]
     },
     "metadata": {
      "needs_background": "light"
     },
     "output_type": "display_data"
    }
   ],
   "source": [
    "from sklearn.metrics import plot_confusion_matrix\n",
    "dis = plot_confusion_matrix(vote_soft, X_test_final, y_test)"
   ]
  },
  {
   "cell_type": "code",
   "execution_count": 73,
   "id": "a3962ef9-be5c-48f0-a46f-d72cb7fb1784",
   "metadata": {},
   "outputs": [
    {
     "name": "stdout",
     "output_type": "stream",
     "text": [
      "              precision    recall  f1-score   support\n",
      "\n",
      "           0       0.96      0.91      0.93      7310\n",
      "           1       0.48      0.70      0.57       928\n",
      "\n",
      "    accuracy                           0.88      8238\n",
      "   macro avg       0.72      0.80      0.75      8238\n",
      "weighted avg       0.91      0.88      0.89      8238\n",
      "\n"
     ]
    }
   ],
   "source": [
    "y_pred = vote_soft.predict(X_test_final)\n",
    "\n",
    "from sklearn.metrics import classification_report, confusion_matrix, accuracy_score\n",
    "print(classification_report(y_test, y_pred))"
   ]
  },
  {
   "cell_type": "code",
   "execution_count": null,
   "id": "4af86b03-70c8-4761-9aad-c0ced68f23f4",
   "metadata": {},
   "outputs": [],
   "source": []
  },
  {
   "cell_type": "markdown",
   "id": "01883707",
   "metadata": {},
   "source": [
    "### Adjust threshold value to play with Type-I & Type-II error"
   ]
  },
  {
   "cell_type": "code",
   "execution_count": 41,
   "id": "ac2e43a0",
   "metadata": {},
   "outputs": [
    {
     "name": "stdout",
     "output_type": "stream",
     "text": [
      "[[6345  965]\n",
      " [ 238  690]]\n",
      "              precision    recall  f1-score   support\n",
      "\n",
      "           0       0.96      0.87      0.91      7310\n",
      "           1       0.42      0.74      0.53       928\n",
      "\n",
      "    accuracy                           0.85      8238\n",
      "   macro avg       0.69      0.81      0.72      8238\n",
      "weighted avg       0.90      0.85      0.87      8238\n",
      "\n"
     ]
    }
   ],
   "source": [
    "y_pred_prob = model.predict_proba(X_test_final)[:,1]\n",
    "y_pred_prob_thres = np.where(y_pred_prob > 0.25, 1, 0)\n",
    "\n",
    "print(confusion_matrix(y_test, y_pred_prob_thres))\n",
    "print(classification_report(y_test, y_pred_prob_thres))"
   ]
  },
  {
   "cell_type": "markdown",
   "id": "8f632040",
   "metadata": {},
   "source": [
    "### ROC Curve"
   ]
  },
  {
   "cell_type": "code",
   "execution_count": 25,
   "id": "da9ae2c7",
   "metadata": {},
   "outputs": [
    {
     "name": "stdout",
     "output_type": "stream",
     "text": [
      "Accuracy: 0.84\n",
      "AUC: 0.92\n"
     ]
    },
    {
     "data": {
      "image/png": "[encoded data removed]",
      "text/plain": [
       "<Figure size 432x288 with 1 Axes>"
      ]
     },
     "metadata": {
      "needs_background": "light"
     },
     "output_type": "display_data"
    }
   ],
   "source": [
    "from sklearn.metrics import roc_auc_score, roc_curve, auc, log_loss\n",
    "\n",
    "logit_roc_auc = roc_auc_score(y_test, model.predict(X_test_final)) # Need to check how it is different from auc\n",
    "fpr, tpr, thresholds = roc_curve(y_test, model.predict_proba(X_test_final)[:,1])\n",
    "\n",
    "print('Accuracy:', np.round(accuracy_score(y_test, y_pred_prob_thres), 2))\n",
    "print('AUC:', np.round(auc(fpr, tpr),2))\n",
    "plt.figure()\n",
    "plt.plot(fpr, tpr, label='Logistic Regression (area = %0.2f)' % np.round(auc(fpr, tpr),2))\n",
    "plt.plot([0, 1], [0, 1],'r--')\n",
    "plt.xlim([0.0, 1.0])\n",
    "plt.ylim([0.0, 1.05])\n",
    "plt.xlabel('False Positive Rate')\n",
    "plt.ylabel('True Positive Rate')\n",
    "plt.title('Receiver operating characteristic')\n",
    "plt.legend(loc=\"lower right\")\n",
    "plt.savefig('Log_ROC')\n",
    "plt.show()"
   ]
  },
  {
   "cell_type": "code",
   "execution_count": null,
   "id": "b500d777",
   "metadata": {},
   "outputs": [],
   "source": []
  }
 ],
 "metadata": {
  "kernelspec": {
   "display_name": "Python 3",
   "language": "python",
   "name": "python3"
  },
  "language_info": {
   "codemirror_mode": {
    "name": "ipython",
    "version": 3
   },
   "file_extension": ".py",
   "mimetype": "text/x-python",
   "name": "python",
   "nbconvert_exporter": "python",
   "pygments_lexer": "ipython3",
   "version": "3.8.8"
  }
 },
 "nbformat": 4,
 "nbformat_minor": 5
}
