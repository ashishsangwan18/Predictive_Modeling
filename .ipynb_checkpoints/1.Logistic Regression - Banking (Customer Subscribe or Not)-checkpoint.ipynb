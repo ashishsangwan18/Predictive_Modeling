{
 "cells": [
  {
   "cell_type": "markdown",
   "id": "422eb485",
   "metadata": {},
   "source": [
    "https://towardsdatascience.com/building-a-logistic-regression-in-python-step-by-step-becd4d56c9c8\n",
    "\n",
    "https://www.kaggle.com/mnassrib/titanic-logistic-regression-with-python\n",
    "\n",
    "Logistic Regression & Regularization - \n",
    "\n",
    "- https://towardsdatascience.com/the-basics-logistic-regression-and-regularization-828b0d2d206c\n",
    "- https://towardsdatascience.com/l1-and-l2-regularization-methods-ce25e7fc831c\n",
    "\n",
    "\n",
    "Solver\n",
    "\n",
    "- https://venali.medium.com/conventional-guide-to-supervised-learning-with-scikit-learn-logistic-regression-generalized-e9783c414588"
   ]
  },
  {
   "cell_type": "code",
   "execution_count": 1,
   "id": "ab144e9f",
   "metadata": {},
   "outputs": [
    {
     "data": {
      "text/plain": [
       "['.git',\n",
       " '.ipynb_checkpoints',\n",
       " '1.Logistic Regression - Banking (Customer Subscribe or Not).ipynb',\n",
       " '2.Decision Tree - Banking (Customer Subscribe or Not).ipynb',\n",
       " '3.Random Forest - Banking (Customer Subscribe or Not).ipynb',\n",
       " '4.Adaboost - Banking (Customer Subscribe or Not).ipynb',\n",
       " '5.Gradient Boosting - Banking (Customer Subscribe or Not).ipynb',\n",
       " 'Banking.csv',\n",
       " 'Log_ROC.png']"
      ]
     },
     "execution_count": 1,
     "metadata": {},
     "output_type": "execute_result"
    }
   ],
   "source": [
    "import pandas as pd\n",
    "import numpy as np\n",
    "import matplotlib.pyplot as plt\n",
    "import seaborn as sns\n",
    "\n",
    "import warnings\n",
    "warnings.filterwarnings('ignore')\n",
    "\n",
    "import os\n",
    "path = os.getcwd()\n",
    "files = os.listdir(path)\n",
    "files"
   ]
  },
  {
   "cell_type": "code",
   "execution_count": 2,
   "id": "2d33423d",
   "metadata": {},
   "outputs": [
    {
     "name": "stdout",
     "output_type": "stream",
     "text": [
      "(41188, 21)\n"
     ]
    },
    {
     "data": {
      "text/html": [
       "<div>\n",
       "<style scoped>\n",
       "    .dataframe tbody tr th:only-of-type {\n",
       "        vertical-align: middle;\n",
       "    }\n",
       "\n",
       "    .dataframe tbody tr th {\n",
       "        vertical-align: top;\n",
       "    }\n",
       "\n",
       "    .dataframe thead th {\n",
       "        text-align: right;\n",
       "    }\n",
       "</style>\n",
       "<table border=\"1\" class=\"dataframe\">\n",
       "  <thead>\n",
       "    <tr style=\"text-align: right;\">\n",
       "      <th></th>\n",
       "      <th>age</th>\n",
       "      <th>job</th>\n",
       "      <th>marital</th>\n",
       "      <th>education</th>\n",
       "      <th>default</th>\n",
       "      <th>housing</th>\n",
       "      <th>loan</th>\n",
       "      <th>contact</th>\n",
       "      <th>month</th>\n",
       "      <th>day_of_week</th>\n",
       "      <th>...</th>\n",
       "      <th>campaign</th>\n",
       "      <th>pdays</th>\n",
       "      <th>previous</th>\n",
       "      <th>poutcome</th>\n",
       "      <th>emp_var_rate</th>\n",
       "      <th>cons_price_idx</th>\n",
       "      <th>cons_conf_idx</th>\n",
       "      <th>euribor3m</th>\n",
       "      <th>nr_employed</th>\n",
       "      <th>y</th>\n",
       "    </tr>\n",
       "  </thead>\n",
       "  <tbody>\n",
       "    <tr>\n",
       "      <th>0</th>\n",
       "      <td>44</td>\n",
       "      <td>blue-collar</td>\n",
       "      <td>married</td>\n",
       "      <td>basic.4y</td>\n",
       "      <td>unknown</td>\n",
       "      <td>yes</td>\n",
       "      <td>no</td>\n",
       "      <td>cellular</td>\n",
       "      <td>aug</td>\n",
       "      <td>thu</td>\n",
       "      <td>...</td>\n",
       "      <td>1</td>\n",
       "      <td>999</td>\n",
       "      <td>0</td>\n",
       "      <td>nonexistent</td>\n",
       "      <td>1.4</td>\n",
       "      <td>93.444</td>\n",
       "      <td>-36.1</td>\n",
       "      <td>4.963</td>\n",
       "      <td>5228.1</td>\n",
       "      <td>0</td>\n",
       "    </tr>\n",
       "    <tr>\n",
       "      <th>1</th>\n",
       "      <td>53</td>\n",
       "      <td>technician</td>\n",
       "      <td>married</td>\n",
       "      <td>unknown</td>\n",
       "      <td>no</td>\n",
       "      <td>no</td>\n",
       "      <td>no</td>\n",
       "      <td>cellular</td>\n",
       "      <td>nov</td>\n",
       "      <td>fri</td>\n",
       "      <td>...</td>\n",
       "      <td>1</td>\n",
       "      <td>999</td>\n",
       "      <td>0</td>\n",
       "      <td>nonexistent</td>\n",
       "      <td>-0.1</td>\n",
       "      <td>93.200</td>\n",
       "      <td>-42.0</td>\n",
       "      <td>4.021</td>\n",
       "      <td>5195.8</td>\n",
       "      <td>0</td>\n",
       "    </tr>\n",
       "    <tr>\n",
       "      <th>2</th>\n",
       "      <td>28</td>\n",
       "      <td>management</td>\n",
       "      <td>single</td>\n",
       "      <td>university.degree</td>\n",
       "      <td>no</td>\n",
       "      <td>yes</td>\n",
       "      <td>no</td>\n",
       "      <td>cellular</td>\n",
       "      <td>jun</td>\n",
       "      <td>thu</td>\n",
       "      <td>...</td>\n",
       "      <td>3</td>\n",
       "      <td>6</td>\n",
       "      <td>2</td>\n",
       "      <td>success</td>\n",
       "      <td>-1.7</td>\n",
       "      <td>94.055</td>\n",
       "      <td>-39.8</td>\n",
       "      <td>0.729</td>\n",
       "      <td>4991.6</td>\n",
       "      <td>1</td>\n",
       "    </tr>\n",
       "    <tr>\n",
       "      <th>3</th>\n",
       "      <td>39</td>\n",
       "      <td>services</td>\n",
       "      <td>married</td>\n",
       "      <td>high.school</td>\n",
       "      <td>no</td>\n",
       "      <td>no</td>\n",
       "      <td>no</td>\n",
       "      <td>cellular</td>\n",
       "      <td>apr</td>\n",
       "      <td>fri</td>\n",
       "      <td>...</td>\n",
       "      <td>2</td>\n",
       "      <td>999</td>\n",
       "      <td>0</td>\n",
       "      <td>nonexistent</td>\n",
       "      <td>-1.8</td>\n",
       "      <td>93.075</td>\n",
       "      <td>-47.1</td>\n",
       "      <td>1.405</td>\n",
       "      <td>5099.1</td>\n",
       "      <td>0</td>\n",
       "    </tr>\n",
       "    <tr>\n",
       "      <th>4</th>\n",
       "      <td>55</td>\n",
       "      <td>retired</td>\n",
       "      <td>married</td>\n",
       "      <td>basic.4y</td>\n",
       "      <td>no</td>\n",
       "      <td>yes</td>\n",
       "      <td>no</td>\n",
       "      <td>cellular</td>\n",
       "      <td>aug</td>\n",
       "      <td>fri</td>\n",
       "      <td>...</td>\n",
       "      <td>1</td>\n",
       "      <td>3</td>\n",
       "      <td>1</td>\n",
       "      <td>success</td>\n",
       "      <td>-2.9</td>\n",
       "      <td>92.201</td>\n",
       "      <td>-31.4</td>\n",
       "      <td>0.869</td>\n",
       "      <td>5076.2</td>\n",
       "      <td>1</td>\n",
       "    </tr>\n",
       "  </tbody>\n",
       "</table>\n",
       "<p>5 rows × 21 columns</p>\n",
       "</div>"
      ],
      "text/plain": [
       "   age          job  marital          education  default housing loan  \\\n",
       "0   44  blue-collar  married           basic.4y  unknown     yes   no   \n",
       "1   53   technician  married            unknown       no      no   no   \n",
       "2   28   management   single  university.degree       no     yes   no   \n",
       "3   39     services  married        high.school       no      no   no   \n",
       "4   55      retired  married           basic.4y       no     yes   no   \n",
       "\n",
       "    contact month day_of_week  ...  campaign  pdays  previous     poutcome  \\\n",
       "0  cellular   aug         thu  ...         1    999         0  nonexistent   \n",
       "1  cellular   nov         fri  ...         1    999         0  nonexistent   \n",
       "2  cellular   jun         thu  ...         3      6         2      success   \n",
       "3  cellular   apr         fri  ...         2    999         0  nonexistent   \n",
       "4  cellular   aug         fri  ...         1      3         1      success   \n",
       "\n",
       "  emp_var_rate  cons_price_idx  cons_conf_idx  euribor3m  nr_employed  y  \n",
       "0          1.4          93.444          -36.1      4.963       5228.1  0  \n",
       "1         -0.1          93.200          -42.0      4.021       5195.8  0  \n",
       "2         -1.7          94.055          -39.8      0.729       4991.6  1  \n",
       "3         -1.8          93.075          -47.1      1.405       5099.1  0  \n",
       "4         -2.9          92.201          -31.4      0.869       5076.2  1  \n",
       "\n",
       "[5 rows x 21 columns]"
      ]
     },
     "execution_count": 2,
     "metadata": {},
     "output_type": "execute_result"
    }
   ],
   "source": [
    "df = pd.read_csv('Banking.csv')\n",
    "print(df.shape)\n",
    "df.head()"
   ]
  },
  {
   "cell_type": "code",
   "execution_count": 3,
   "id": "4d92269c",
   "metadata": {},
   "outputs": [
    {
     "data": {
      "text/plain": [
       "age               0\n",
       "job               0\n",
       "marital           0\n",
       "education         0\n",
       "default           0\n",
       "housing           0\n",
       "loan              0\n",
       "contact           0\n",
       "month             0\n",
       "day_of_week       0\n",
       "duration          0\n",
       "campaign          0\n",
       "pdays             0\n",
       "previous          0\n",
       "poutcome          0\n",
       "emp_var_rate      0\n",
       "cons_price_idx    0\n",
       "cons_conf_idx     0\n",
       "euribor3m         0\n",
       "nr_employed       0\n",
       "y                 0\n",
       "dtype: int64"
      ]
     },
     "execution_count": 3,
     "metadata": {},
     "output_type": "execute_result"
    }
   ],
   "source": [
    "df.isnull().sum()"
   ]
  },
  {
   "cell_type": "code",
   "execution_count": 4,
   "id": "0d8e09d6",
   "metadata": {},
   "outputs": [
    {
     "data": {
      "text/plain": [
       "age                 int64\n",
       "job                object\n",
       "marital            object\n",
       "education          object\n",
       "default            object\n",
       "housing            object\n",
       "loan               object\n",
       "contact            object\n",
       "month              object\n",
       "day_of_week        object\n",
       "duration            int64\n",
       "campaign            int64\n",
       "pdays               int64\n",
       "previous            int64\n",
       "poutcome           object\n",
       "emp_var_rate      float64\n",
       "cons_price_idx    float64\n",
       "cons_conf_idx     float64\n",
       "euribor3m         float64\n",
       "nr_employed       float64\n",
       "y                   int64\n",
       "dtype: object"
      ]
     },
     "execution_count": 4,
     "metadata": {},
     "output_type": "execute_result"
    }
   ],
   "source": [
    "df.dtypes"
   ]
  },
  {
   "cell_type": "code",
   "execution_count": 5,
   "id": "9766653c",
   "metadata": {},
   "outputs": [
    {
     "data": {
      "text/plain": [
       "age                 78\n",
       "job                 12\n",
       "marital              4\n",
       "education            8\n",
       "default              3\n",
       "housing              3\n",
       "loan                 3\n",
       "contact              2\n",
       "month               10\n",
       "day_of_week          5\n",
       "duration          1544\n",
       "campaign            42\n",
       "pdays               27\n",
       "previous             8\n",
       "poutcome             3\n",
       "emp_var_rate        10\n",
       "cons_price_idx      26\n",
       "cons_conf_idx       26\n",
       "euribor3m          316\n",
       "nr_employed         11\n",
       "y                    2\n",
       "dtype: int64"
      ]
     },
     "execution_count": 5,
     "metadata": {},
     "output_type": "execute_result"
    }
   ],
   "source": [
    "df.nunique()"
   ]
  },
  {
   "cell_type": "code",
   "execution_count": 6,
   "id": "27f1d05b",
   "metadata": {},
   "outputs": [
    {
     "data": {
      "text/plain": [
       "university.degree      12168\n",
       "high.school             9515\n",
       "basic.9y                6045\n",
       "professional.course     5243\n",
       "basic.4y                4176\n",
       "basic.6y                2292\n",
       "unknown                 1731\n",
       "illiterate                18\n",
       "Name: education, dtype: int64"
      ]
     },
     "execution_count": 6,
     "metadata": {},
     "output_type": "execute_result"
    }
   ],
   "source": [
    "df['education'].value_counts()"
   ]
  },
  {
   "cell_type": "code",
   "execution_count": 7,
   "id": "7308a918",
   "metadata": {
    "scrolled": true
   },
   "outputs": [
    {
     "data": {
      "text/plain": [
       "Basic                  12513\n",
       "university.degree      12168\n",
       "high.school             9515\n",
       "professional.course     5243\n",
       "unknown                 1731\n",
       "illiterate                18\n",
       "Name: education, dtype: int64"
      ]
     },
     "execution_count": 7,
     "metadata": {},
     "output_type": "execute_result"
    }
   ],
   "source": [
    "df['education'] = np.where(df['education'].isin(['basic.4y','basic.6y','basic.9y']), 'Basic', df['education'])\n",
    "df['education'].value_counts()"
   ]
  },
  {
   "cell_type": "markdown",
   "id": "63c72827",
   "metadata": {},
   "source": [
    "### Create dummy variables"
   ]
  },
  {
   "cell_type": "code",
   "execution_count": 8,
   "id": "311425b6",
   "metadata": {},
   "outputs": [],
   "source": [
    "df1 = pd.get_dummies(df, columns=['job','marital','education','default','housing','loan',\n",
    "                                    'contact','month','day_of_week','poutcome'], drop_first=True)"
   ]
  },
  {
   "cell_type": "markdown",
   "id": "dbadba67",
   "metadata": {},
   "source": [
    "## Data Exploration"
   ]
  },
  {
   "cell_type": "code",
   "execution_count": 9,
   "id": "9b2ca75a",
   "metadata": {},
   "outputs": [
    {
     "data": {
      "image/png": "[encoded data removed]",
      "text/plain": [
       "<Figure size 432x288 with 1 Axes>"
      ]
     },
     "metadata": {
      "needs_background": "light"
     },
     "output_type": "display_data"
    }
   ],
   "source": [
    "sns.countplot(x='y', data=df1)\n",
    "plt.show()"
   ]
  },
  {
   "cell_type": "code",
   "execution_count": 10,
   "id": "b8538ad2",
   "metadata": {},
   "outputs": [
    {
     "data": {
      "text/plain": [
       "0    88.734583\n",
       "1    11.265417\n",
       "Name: y, dtype: float64"
      ]
     },
     "execution_count": 10,
     "metadata": {},
     "output_type": "execute_result"
    }
   ],
   "source": [
    "df1['y'].value_counts(normalize=True)*100"
   ]
  },
  {
   "cell_type": "code",
   "execution_count": 11,
   "id": "bcfe9730",
   "metadata": {
    "scrolled": true
   },
   "outputs": [
    {
     "data": {
      "image/png": "[encoded data removed]",
      "text/plain": [
       "<Figure size 432x288 with 1 Axes>"
      ]
     },
     "metadata": {
      "needs_background": "light"
     },
     "output_type": "display_data"
    }
   ],
   "source": [
    "total = float(len(df1))\n",
    "ax = sns.countplot(x='y', data=df1)\n",
    "\n",
    "for p in ax.patches:\n",
    "    percentage = '{:.1f}%'.format(p.get_height()/total*100)\n",
    "    x = p.get_x() + p.get_width()/ 1 - 0.5\n",
    "    y = p.get_y() + p.get_height()\n",
    "    ax.annotate(percentage, (x,y), size=15)\n",
    "plt.show() "
   ]
  },
  {
   "cell_type": "markdown",
   "id": "1b62713a",
   "metadata": {},
   "source": [
    "### Divide into X and Y"
   ]
  },
  {
   "cell_type": "code",
   "execution_count": 12,
   "id": "46254e08",
   "metadata": {},
   "outputs": [
    {
     "name": "stdout",
     "output_type": "stream",
     "text": [
      "(41188, 51)\n",
      "(41188, 1)\n"
     ]
    }
   ],
   "source": [
    "X = df1.loc[:,df1.columns!='y']\n",
    "y = df1.loc[:,df1.columns=='y']\n",
    "\n",
    "print(X.shape)\n",
    "print(y.shape)"
   ]
  },
  {
   "cell_type": "markdown",
   "id": "a2ac5b02",
   "metadata": {},
   "source": [
    "### Train Test Split"
   ]
  },
  {
   "cell_type": "code",
   "execution_count": 13,
   "id": "12eb93b1",
   "metadata": {},
   "outputs": [],
   "source": [
    "from sklearn.model_selection import train_test_split\n",
    "X_train, X_test, y_train, y_test = train_test_split(X, y, test_size=0.2, random_state=10, stratify=y)"
   ]
  },
  {
   "cell_type": "markdown",
   "id": "df314443",
   "metadata": {},
   "source": [
    "### Handling Imbalance Data - SMOTE\n",
    "- There 3 methods we can use to handle imbalance data set\n",
    "  - SMOTE - Over sampling technique generates synthetic data points of minority class\n",
    "  - SMOTEENN - Over sampling then under sampling \n",
    "  - SMOTETOmek - Over sampling then under sampling \n",
    "\n",
    "https://imbalanced-learn.org/stable/auto_examples/index.html#general-examples\n",
    "\n",
    "- Using SMOTE noisy sample can be generated. E.g where different classes can not be very well separate. Hence, it can be benificial to apply an under sampling algorithm to clean the noisy samples. Please see above link\n",
    " \n",
    "- SMOTEENN is better then SMOTETOmek"
   ]
  },
  {
   "cell_type": "code",
   "execution_count": 14,
   "id": "5ec485de",
   "metadata": {},
   "outputs": [],
   "source": [
    "# !pip install imblearn \n",
    "# First run above command incase SMOTE is not loading\n",
    "\n",
    "from imblearn.over_sampling import SMOTE\n",
    "smote = SMOTE(random_state=10)\n",
    "smote_X_train, smote_y_train = smote.fit_resample(X_train, y_train)"
   ]
  },
  {
   "cell_type": "code",
   "execution_count": 15,
   "id": "89efc9d0",
   "metadata": {},
   "outputs": [
    {
     "name": "stdout",
     "output_type": "stream",
     "text": [
      "0    29238\n",
      "1     3712\n",
      "Name: y, dtype: int64\n",
      "0    29238\n",
      "1    29238\n",
      "Name: y, dtype: int64\n"
     ]
    }
   ],
   "source": [
    "print(y_train['y'].value_counts())\n",
    "print(smote_y_train['y'].value_counts())"
   ]
  },
  {
   "cell_type": "markdown",
   "id": "fe3e659f",
   "metadata": {},
   "source": [
    "### Feature Selection Method - RFE (Recursive Feature Elimination)\n",
    "First, the estimator is trained on the initial set of features (All Features) and the importance of each feature is obtained either through a coef_attribute or through a feature_importance_attribute. Then, the least important features are pruned from current set of features. This procedure is recursively repeated on the pruned set until the desired no. of features to select is eventually reached.\n",
    "\n",
    "### Result - We will have to give minimum feature we want or it will return 50% of total features\n",
    "   - Suppose we have 60 features then if we dont give any value in 'n_features_to_select' then it will return 30 most significant features"
   ]
  },
  {
   "cell_type": "code",
   "execution_count": 16,
   "id": "02bbdd74",
   "metadata": {},
   "outputs": [
    {
     "name": "stdout",
     "output_type": "stream",
     "text": [
      "Selectd Features: ['job_blue-collar', 'job_entrepreneur', 'job_housemaid', 'job_management', 'job_retired', 'job_self-employed', 'job_services', 'job_technician', 'job_unemployed', 'job_unknown', 'education_high.school', 'education_professional.course', 'education_university.degree', 'education_unknown', 'contact_telephone', 'month_aug', 'month_jul', 'month_jun', 'month_may', 'month_nov', 'day_of_week_mon', 'day_of_week_thu', 'day_of_week_tue', 'day_of_week_wed', 'poutcome_success']\n"
     ]
    }
   ],
   "source": [
    "# https://scikit-learn.org/stable/modules/feature_selection.html\n",
    "\n",
    "from sklearn.feature_selection import RFE\n",
    "from sklearn.linear_model import LogisticRegression\n",
    "\n",
    "glm = LogisticRegression()\n",
    "\n",
    "rfe = RFE(estimator=glm, n_features_to_select=None, step=1)\n",
    "rfe = rfe.fit(smote_X_train, smote_y_train)\n",
    "\n",
    "print('Selectd Features: %s' % list(X.columns[rfe.support_]))"
   ]
  },
  {
   "cell_type": "markdown",
   "id": "2c0ee6ed",
   "metadata": {},
   "source": [
    "### Feature Selection Method - RFE (Recursive Feature Elimination)\n",
    "\n",
    "#### Result - We will have to give minimum feature we want or it will return most significant features\n",
    "   - Suppose we have 60 features then if we dont give any value in 'min_features_to_select' then it will return most significant features out of total features"
   ]
  },
  {
   "cell_type": "code",
   "execution_count": 16,
   "id": "6b9d78b1",
   "metadata": {},
   "outputs": [
    {
     "name": "stdout",
     "output_type": "stream",
     "text": [
      "Optimal number of features: 48\n",
      "Selectd Features: ['age', 'duration', 'campaign', 'pdays', 'previous', 'emp_var_rate', 'cons_price_idx', 'cons_conf_idx', 'euribor3m', 'nr_employed', 'job_blue-collar', 'job_entrepreneur', 'job_housemaid', 'job_management', 'job_retired', 'job_self-employed', 'job_services', 'job_student', 'job_technician', 'job_unemployed', 'job_unknown', 'marital_married', 'marital_single', 'education_high.school', 'education_professional.course', 'education_university.degree', 'education_unknown', 'default_unknown', 'housing_unknown', 'housing_yes', 'loan_unknown', 'loan_yes', 'contact_telephone', 'month_aug', 'month_dec', 'month_jul', 'month_jun', 'month_mar', 'month_may', 'month_nov', 'month_oct', 'month_sep', 'day_of_week_mon', 'day_of_week_thu', 'day_of_week_tue', 'day_of_week_wed', 'poutcome_nonexistent', 'poutcome_success']\n"
     ]
    },
    {
     "data": {
      "image/png": "[encoded data removed]",
      "text/plain": [
       "<Figure size 720x432 with 1 Axes>"
      ]
     },
     "metadata": {
      "needs_background": "light"
     },
     "output_type": "display_data"
    },
    {
     "name": "stdout",
     "output_type": "stream",
     "text": [
      "Wall time: 1min 51s\n"
     ]
    }
   ],
   "source": [
    "%%time\n",
    "\n",
    "from sklearn.feature_selection import RFECV\n",
    "from sklearn.linear_model import LogisticRegression\n",
    "\n",
    "glm = LogisticRegression()\n",
    "\n",
    "rfecv = RFECV(estimator=glm, min_features_to_select=1, step=1, cv=5, scoring='accuracy')\n",
    "rfecv = rfecv.fit(smote_X_train, smote_y_train)\n",
    "\n",
    "print('Optimal number of features: %d' % rfecv.n_features_)\n",
    "print('Selectd Features: %s' % list(X.columns[rfecv.support_]))\n",
    "\n",
    "plt.figure(figsize=(10,6))\n",
    "plt.xlabel('Number of features selected')\n",
    "plt.ylabel('Cross Validation Score (Number of correct classifications)')\n",
    "plt.plot(range(1, len(rfecv.grid_scores_)+1), rfecv.grid_scores_)\n",
    "plt.show()"
   ]
  },
  {
   "cell_type": "markdown",
   "id": "f10514df",
   "metadata": {},
   "source": [
    "### Prepraing final data set after feature selection"
   ]
  },
  {
   "cell_type": "code",
   "execution_count": 17,
   "id": "ce931c2f",
   "metadata": {},
   "outputs": [],
   "source": [
    "final_features = list(X.columns[rfecv.support_])"
   ]
  },
  {
   "cell_type": "code",
   "execution_count": 18,
   "id": "cdf8a8fe",
   "metadata": {},
   "outputs": [],
   "source": [
    "smote_X_train_final = smote_X_train[final_features]\n",
    "X_test_final = X_test[final_features]"
   ]
  },
  {
   "cell_type": "markdown",
   "id": "ba7f84da",
   "metadata": {},
   "source": [
    "### Final Training Data"
   ]
  },
  {
   "cell_type": "code",
   "execution_count": 19,
   "id": "86a2ee85",
   "metadata": {},
   "outputs": [
    {
     "name": "stdout",
     "output_type": "stream",
     "text": [
      "(58476, 48)\n",
      "(58476, 1)\n"
     ]
    }
   ],
   "source": [
    "print(smote_X_train_final.shape)\n",
    "print(smote_y_train.shape)"
   ]
  },
  {
   "cell_type": "markdown",
   "id": "96b58d8d",
   "metadata": {},
   "source": [
    "### Modeling"
   ]
  },
  {
   "cell_type": "code",
   "execution_count": 20,
   "id": "7c652114",
   "metadata": {},
   "outputs": [
    {
     "data": {
      "text/plain": [
       "LogisticRegression()"
      ]
     },
     "execution_count": 20,
     "metadata": {},
     "output_type": "execute_result"
    }
   ],
   "source": [
    "from sklearn.linear_model import LogisticRegression\n",
    "\n",
    "model = LogisticRegression()\n",
    "model.fit(smote_X_train_final, smote_y_train)"
   ]
  },
  {
   "cell_type": "code",
   "execution_count": 21,
   "id": "6af291a2",
   "metadata": {},
   "outputs": [
    {
     "name": "stdout",
     "output_type": "stream",
     "text": [
      "Optimization terminated successfully.\n",
      "         Current function value: 0.173768\n",
      "         Iterations 8\n",
      "                           Logit Regression Results                           \n",
      "==============================================================================\n",
      "Dep. Variable:                      y   No. Observations:                58476\n",
      "Model:                          Logit   Df Residuals:                    58429\n",
      "Method:                           MLE   Df Model:                           46\n",
      "Date:                Tue, 11 Jan 2022   Pseudo R-squ.:                  0.7493\n",
      "Time:                        11:52:30   Log-Likelihood:                -10161.\n",
      "converged:                       True   LL-Null:                       -40532.\n",
      "Covariance Type:            nonrobust   LLR p-value:                     0.000\n",
      "=================================================================================================\n",
      "                                    coef    std err          z      P>|z|      [0.025      0.975]\n",
      "-------------------------------------------------------------------------------------------------\n",
      "age                              -0.0137      0.002     -7.268      0.000      -0.017      -0.010\n",
      "duration                          0.0056   7.28e-05     77.579      0.000       0.006       0.006\n",
      "campaign                         -0.1095        nan        nan        nan         nan         nan\n",
      "pdays                            -0.0019      0.000    -10.203      0.000      -0.002      -0.002\n",
      "previous                         -0.7694      0.052    -14.810      0.000      -0.871      -0.668\n",
      "emp_var_rate                     -1.8094      0.093    -19.483      0.000      -1.991      -1.627\n",
      "cons_price_idx                    1.1141      0.044     25.330      0.000       1.028       1.200\n",
      "cons_conf_idx                    -0.0018      0.007     -0.280      0.779      -0.015       0.011\n",
      "euribor3m                         1.7644      0.109     16.160      0.000       1.550       1.978\n",
      "nr_employed                      -0.0203      0.001    -22.472      0.000      -0.022      -0.019\n",
      "job_blue-collar                  -2.5689      0.066    -38.957      0.000      -2.698      -2.440\n",
      "job_entrepreneur                 -1.9979      0.140    -14.251      0.000      -2.273      -1.723\n",
      "job_housemaid                    -2.4153      0.166    -14.547      0.000      -2.741      -2.090\n",
      "job_management                   -1.3036      0.089    -14.709      0.000      -1.477      -1.130\n",
      "job_retired                      -1.0842      0.098    -11.111      0.000      -1.275      -0.893\n",
      "job_self-employed                -1.7631      0.133    -13.226      0.000      -2.024      -1.502\n",
      "job_services                     -1.7237      0.088    -19.524      0.000      -1.897      -1.551\n",
      "job_student                      -1.0427      0.116     -8.985      0.000      -1.270      -0.815\n",
      "job_technician                   -1.3262      0.068    -19.578      0.000      -1.459      -1.193\n",
      "job_unemployed                   -1.7870      0.142    -12.612      0.000      -2.065      -1.509\n",
      "job_unknown                      -1.2059      0.273     -4.417      0.000      -1.741      -0.671\n",
      "marital_married                  -1.0049      0.049    -20.615      0.000      -1.100      -0.909\n",
      "marital_single                   -1.1113      0.059    -18.745      0.000      -1.228      -0.995\n",
      "education_high.school            -1.8497      0.059    -31.572      0.000      -1.965      -1.735\n",
      "education_professional.course    -1.3549      0.078    -17.340      0.000      -1.508      -1.202\n",
      "education_university.degree      -1.6426      0.052    -31.571      0.000      -1.745      -1.541\n",
      "education_unknown                -1.4205      0.113    -12.586      0.000      -1.642      -1.199\n",
      "default_unknown                  -0.8561      0.069    -12.437      0.000      -0.991      -0.721\n",
      "housing_unknown                  -0.5060   1.12e+17  -4.52e-18      1.000   -2.19e+17    2.19e+17\n",
      "housing_yes                      -0.4038      0.038    -10.724      0.000      -0.478      -0.330\n",
      "loan_unknown                     -0.5060   1.12e+17  -4.52e-18      1.000   -2.19e+17    2.19e+17\n",
      "loan_yes                         -0.6587      0.063    -10.415      0.000      -0.783      -0.535\n",
      "contact_telephone                -1.3130      0.070    -18.683      0.000      -1.451      -1.175\n",
      "month_aug                        -0.8537      0.103     -8.293      0.000      -1.055      -0.652\n",
      "month_dec                        -1.6639      0.262     -6.361      0.000      -2.177      -1.151\n",
      "month_jul                        -1.5262      0.078    -19.578      0.000      -1.679      -1.373\n",
      "month_jun                        -1.5242      0.078    -19.662      0.000      -1.676      -1.372\n",
      "month_mar                         0.4801      0.122      3.934      0.000       0.241       0.719\n",
      "month_may                        -1.9718      0.066    -29.752      0.000      -2.102      -1.842\n",
      "month_nov                        -2.8389      0.095    -30.015      0.000      -3.024      -2.654\n",
      "month_oct                        -1.7929        nan        nan        nan         nan         nan\n",
      "month_sep                        -1.8591      0.149    -12.450      0.000      -2.152      -1.566\n",
      "day_of_week_mon                  -1.5935      0.057    -28.069      0.000      -1.705      -1.482\n",
      "day_of_week_thu                  -1.4835      0.056    -26.459      0.000      -1.593      -1.374\n",
      "day_of_week_tue                  -1.3663      0.060    -22.788      0.000      -1.484      -1.249\n",
      "day_of_week_wed                  -1.2104      0.056    -21.547      0.000      -1.320      -1.100\n",
      "poutcome_nonexistent             -0.5035      0.074     -6.850      0.000      -0.648      -0.359\n",
      "poutcome_success                  0.4018      0.208      1.936      0.053      -0.005       0.809\n",
      "=================================================================================================\n"
     ]
    }
   ],
   "source": [
    "import statsmodels.api as sm\n",
    "logit_model = sm.Logit(smote_y_train, smote_X_train_final)\n",
    "result_logit = logit_model.fit()\n",
    "print(result_logit.summary())"
   ]
  },
  {
   "cell_type": "code",
   "execution_count": 22,
   "id": "df5304cd",
   "metadata": {},
   "outputs": [
    {
     "data": {
      "image/png": "[encoded data removed]",
      "text/plain": [
       "<Figure size 432x288 with 2 Axes>"
      ]
     },
     "metadata": {
      "needs_background": "light"
     },
     "output_type": "display_data"
    }
   ],
   "source": [
    "from sklearn.metrics import plot_confusion_matrix\n",
    "dis = plot_confusion_matrix(model, X_test_final, y_test)"
   ]
  },
  {
   "cell_type": "code",
   "execution_count": 23,
   "id": "ab6c0fe9",
   "metadata": {},
   "outputs": [
    {
     "name": "stdout",
     "output_type": "stream",
     "text": [
      "              precision    recall  f1-score   support\n",
      "\n",
      "           0       0.97      0.86      0.91      7310\n",
      "           1       0.42      0.81      0.55       928\n",
      "\n",
      "    accuracy                           0.85      8238\n",
      "   macro avg       0.70      0.83      0.73      8238\n",
      "weighted avg       0.91      0.85      0.87      8238\n",
      "\n"
     ]
    }
   ],
   "source": [
    "y_pred = model.predict(X_test_final)\n",
    "\n",
    "from sklearn.metrics import classification_report, confusion_matrix, accuracy_score\n",
    "print(classification_report(y_test, y_pred))"
   ]
  },
  {
   "cell_type": "markdown",
   "id": "01883707",
   "metadata": {},
   "source": [
    "### Adjust threshold value to play with Type-I & Type-II error"
   ]
  },
  {
   "cell_type": "code",
   "execution_count": 24,
   "id": "ac2e43a0",
   "metadata": {},
   "outputs": [
    {
     "name": "stdout",
     "output_type": "stream",
     "text": [
      "[[6149 1161]\n",
      " [ 150  778]]\n",
      "              precision    recall  f1-score   support\n",
      "\n",
      "           0       0.98      0.84      0.90      7310\n",
      "           1       0.40      0.84      0.54       928\n",
      "\n",
      "    accuracy                           0.84      8238\n",
      "   macro avg       0.69      0.84      0.72      8238\n",
      "weighted avg       0.91      0.84      0.86      8238\n",
      "\n"
     ]
    }
   ],
   "source": [
    "y_pred_prob = model.predict_proba(X_test_final)[:,1]\n",
    "y_pred_prob_thres = np.where(y_pred_prob > 0.45, 1, 0)\n",
    "\n",
    "print(confusion_matrix(y_test, y_pred_prob_thres))\n",
    "print(classification_report(y_test, y_pred_prob_thres))"
   ]
  },
  {
   "cell_type": "markdown",
   "id": "8f632040",
   "metadata": {},
   "source": [
    "### ROC Curve"
   ]
  },
  {
   "cell_type": "code",
   "execution_count": 25,
   "id": "da9ae2c7",
   "metadata": {},
   "outputs": [
    {
     "name": "stdout",
     "output_type": "stream",
     "text": [
      "Accuracy: 0.84\n",
      "AUC: 0.92\n"
     ]
    },
    {
     "data": {
      "image/png": "[encoded data removed]",
      "text/plain": [
       "<Figure size 432x288 with 1 Axes>"
      ]
     },
     "metadata": {
      "needs_background": "light"
     },
     "output_type": "display_data"
    }
   ],
   "source": [
    "from sklearn.metrics import roc_auc_score, roc_curve, auc, log_loss\n",
    "\n",
    "logit_roc_auc = roc_auc_score(y_test, model.predict(X_test_final)) # Need to check how it is different from auc\n",
    "fpr, tpr, thresholds = roc_curve(y_test, model.predict_proba(X_test_final)[:,1])\n",
    "\n",
    "print('Accuracy:', np.round(accuracy_score(y_test, y_pred_prob_thres), 2))\n",
    "print('AUC:', np.round(auc(fpr, tpr),2))\n",
    "plt.figure()\n",
    "plt.plot(fpr, tpr, label='Logistic Regression (area = %0.2f)' % np.round(auc(fpr, tpr),2))\n",
    "plt.plot([0, 1], [0, 1],'r--')\n",
    "plt.xlim([0.0, 1.0])\n",
    "plt.ylim([0.0, 1.05])\n",
    "plt.xlabel('False Positive Rate')\n",
    "plt.ylabel('True Positive Rate')\n",
    "plt.title('Receiver operating characteristic')\n",
    "plt.legend(loc=\"lower right\")\n",
    "plt.savefig('Log_ROC')\n",
    "plt.show()"
   ]
  },
  {
   "cell_type": "markdown",
   "id": "e1314d9e",
   "metadata": {},
   "source": [
    "### Hyperparameter Optimisation - GridSearchCV\n",
    "- https://www.kaggle.com/mnassrib/titanic-logistic-regression-with-python\n",
    "- https://www.kaggle.com/funxexcel/p2-logistic-regression-hyperparameter-tuning\n",
    "- Based on best parameter of GridSearch CV, run again logistic regression model and make prediction and play with Type-I & \n",
    "Type-II error\n",
    "\n",
    "\n",
    "- Difference between GridSearchCV & RamdomizedSearchCV\n",
    " - https://www.quora.com/What-is-the-difference-between-random-search-and-grid-search-for-hyperparameter-optimization"
   ]
  },
  {
   "cell_type": "code",
   "execution_count": 27,
   "id": "a6719e76",
   "metadata": {},
   "outputs": [],
   "source": [
    "# %%time\n",
    "\n",
    "# from sklearn.model_selection import GridSearchCV\n",
    "# from sklearn.linear_model import LogisticRegression\n",
    "\n",
    "# glm_gridCV = LogisticRegression()\n",
    "\n",
    "# param_gridCV = [{'penalty':['l2'], 'C':[1,1.15,1.25], 'solver':['newton-cg','lbfgs','sag','saga'], 'max_iter':[100,200]},\n",
    "#                 {'penalty':['elasticnet'], 'C':[1,1.15,1.25], 'solver':['saga'], 'max_iter':[100,200], 'l1_ratio':[.3,.5,.7]}, \n",
    "#                 {'penalty':['l1'], 'C':[1,1.15,1.25], 'solver':['liblinear','saga'], 'max_iter':[100,200]}]\n",
    "\n",
    "# gridCV = GridSearchCV(estimator=glm_gridCV, param_grid=param_gridCV, cv=5, scoring='accuracy')\n",
    "# best_gridCV = gridCV.fit(smote_X_train_final, smote_y_train)\n",
    "\n",
    "# print(best_gridCV.best_estimator_)\n",
    "# print('--------------------------------------------')\n",
    "# print(best_gridCV.best_params_)\n",
    "# print('--------------------------------------------')\n",
    "# print(best_gridCV.best_score_)"
   ]
  },
  {
   "cell_type": "markdown",
   "id": "391ac204",
   "metadata": {},
   "source": [
    "### Hyperparameter Optimisation - RandomizedSearchCV"
   ]
  },
  {
   "cell_type": "code",
   "execution_count": 31,
   "id": "b6b53ff3",
   "metadata": {
    "scrolled": true
   },
   "outputs": [
    {
     "name": "stdout",
     "output_type": "stream",
     "text": [
      "LogisticRegression(C=1, max_iter=200, solver='newton-cg')\n",
      "--------------------------------------------\n",
      "{'solver': 'newton-cg', 'penalty': 'l2', 'max_iter': 200, 'C': 1}\n",
      "--------------------------------------------\n",
      "0.9125997216648175\n",
      "Wall time: 23min 23s\n"
     ]
    }
   ],
   "source": [
    "%%time\n",
    "\n",
    "from sklearn.model_selection import RandomizedSearchCV\n",
    "from sklearn.linear_model import LogisticRegression\n",
    "\n",
    "classifier = LogisticRegression()\n",
    "\n",
    "param_randomCV = [{'penalty':['l2'], 'C':[1,1.15,1.25], 'solver':['newton-cg','lbfgs','sag','saga'], 'max_iter':[100,200]},\n",
    "                {'penalty':['elasticnet'], 'C':[1,1.15,1.25], 'solver':['saga'], 'max_iter':[100,200], 'l1_ratio':[.3,.5,.7]}, \n",
    "                {'penalty':['l1'], 'C':[1,1.15,1.25], 'solver':['liblinear','saga'], 'max_iter':[100,200]}]\n",
    "\n",
    "randomCV = RandomizedSearchCV(estimator=classifier, param_distributions=param_randomCV, cv=5, scoring='accuracy', random_state=10)\n",
    "best_randomCV = randomCV.fit(smote_X_train_final, smote_y_train)\n",
    "\n",
    "print(best_randomCV.best_estimator_)\n",
    "print('--------------------------------------------')\n",
    "print(best_randomCV.best_params_)\n",
    "print('--------------------------------------------')\n",
    "print(best_randomCV.best_score_)"
   ]
  },
  {
   "cell_type": "markdown",
   "id": "50e08c5f",
   "metadata": {},
   "source": [
    "### Re-run same logistic model again on best param given by RandomizedSearchCV"
   ]
  },
  {
   "cell_type": "code",
   "execution_count": 27,
   "id": "7566c880",
   "metadata": {},
   "outputs": [
    {
     "data": {
      "text/plain": [
       "LogisticRegression(C=1, max_iter=200, solver='newton-cg')"
      ]
     },
     "execution_count": 27,
     "metadata": {},
     "output_type": "execute_result"
    }
   ],
   "source": [
    "model_final = LogisticRegression(penalty='l2', C=1, solver='newton-cg', max_iter=200)\n",
    "model_final.fit(smote_X_train_final, smote_y_train)"
   ]
  },
  {
   "cell_type": "code",
   "execution_count": 28,
   "id": "334ecd18",
   "metadata": {},
   "outputs": [
    {
     "name": "stdout",
     "output_type": "stream",
     "text": [
      "[[6283 1027]\n",
      " [ 178  750]]\n",
      "              precision    recall  f1-score   support\n",
      "\n",
      "           0       0.97      0.86      0.91      7310\n",
      "           1       0.42      0.81      0.55       928\n",
      "\n",
      "    accuracy                           0.85      8238\n",
      "   macro avg       0.70      0.83      0.73      8238\n",
      "weighted avg       0.91      0.85      0.87      8238\n",
      "\n"
     ]
    }
   ],
   "source": [
    "y_pred_prob_final = model_final.predict_proba(X_test_final)[:,1]\n",
    "y_pred_prob_thres_final = np.where(y_pred_prob > 0.5, 1, 0)\n",
    "\n",
    "print(confusion_matrix(y_test, y_pred_prob_thres_final))\n",
    "print(classification_report(y_test, y_pred_prob_thres_final))"
   ]
  },
  {
   "cell_type": "code",
   "execution_count": 50,
   "id": "d76ed670",
   "metadata": {},
   "outputs": [
    {
     "name": "stdout",
     "output_type": "stream",
     "text": [
      "Accuracy: 0.84\n",
      "AUC: 0.9\n"
     ]
    },
    {
     "data": {
      "image/png": "[encoded data removed]",
      "text/plain": [
       "<Figure size 432x288 with 1 Axes>"
      ]
     },
     "metadata": {
      "needs_background": "light"
     },
     "output_type": "display_data"
    }
   ],
   "source": [
    "from sklearn.metrics import roc_auc_score, roc_curve, auc, log_loss\n",
    "\n",
    "logit_roc_auc = roc_auc_score(y_test, model_final.predict(X_test_final)) # Need to check how it is different from auc\n",
    "fpr, tpr, thresholds = roc_curve(y_test, model_final.predict_proba(X_test_final)[:,1])\n",
    "\n",
    "print('Accuracy:', np.round(accuracy_score(y_test, y_pred_prob_thres), 2))\n",
    "print('AUC:', np.round(auc(fpr, tpr),2))\n",
    "plt.figure()\n",
    "plt.plot(fpr, tpr, label='Logistic Regression (area = %0.2f)' % np.round(auc(fpr, tpr),2))\n",
    "plt.plot([0, 1], [0, 1],'r--')\n",
    "plt.xlim([0.0, 1.0])\n",
    "plt.ylim([0.0, 1.05])\n",
    "plt.xlabel('False Positive Rate')\n",
    "plt.ylabel('True Positive Rate')\n",
    "plt.title('Receiver operating characteristic')\n",
    "plt.legend(loc=\"lower right\")\n",
    "plt.savefig('Log_ROC')\n",
    "plt.show()"
   ]
  },
  {
   "cell_type": "code",
   "execution_count": null,
   "id": "b500d777",
   "metadata": {},
   "outputs": [],
   "source": []
  }
 ],
 "metadata": {
  "kernelspec": {
   "display_name": "Python 3",
   "language": "python",
   "name": "python3"
  },
  "language_info": {
   "codemirror_mode": {
    "name": "ipython",
    "version": 3
   },
   "file_extension": ".py",
   "mimetype": "text/x-python",
   "name": "python",
   "nbconvert_exporter": "python",
   "pygments_lexer": "ipython3",
   "version": "3.8.8"
  }
 },
 "nbformat": 4,
 "nbformat_minor": 5
}
